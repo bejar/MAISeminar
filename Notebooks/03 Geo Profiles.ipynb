{
 "cells": [
  {
   "cell_type": "code",
   "execution_count": null,
   "metadata": {
    "collapsed": true
   },
   "outputs": [],
   "source": [
    "%matplotlib inline\n",
    "from Code.STData import STData\n",
    "from Code.Constants import homepath, cityparams\n",
    "from Code.Clustering import cluster_events, cluster_cache\n",
    "from Code.Transactions import DailyDiscretizedTransactions, DailyClusteredTransactions\n",
    "from Code.TimeDiscretizer import TimeDiscretizer\n",
    "import folium\n",
    "\n",
    "timedis = [6, 18]\n",
    "data = STData('../', cityparams['london'], 'twitter')\n",
    "\n",
    "data.read_data()"
   ]
  },
  {
   "cell_type": "code",
   "execution_count": null,
   "metadata": {},
   "outputs": [],
   "source": [
    "# radius = 0.005 represents a circle of around 500m diameter depending on latitude/longitude\n",
    "\n",
    "cluster = cluster_cache(data, radius=0.005)\n",
    "if cluster is None:\n",
    "    print 'Computing Clustering'\n",
    "    cluster, _ = cluster_events(data, radius=0.005)"
   ]
  },
  {
   "cell_type": "code",
   "execution_count": null,
   "metadata": {},
   "outputs": [],
   "source": [
    "trans = DailyClusteredTransactions(data, cluster=cluster, timeres=TimeDiscretizer(timedis))"
   ]
  },
  {
   "cell_type": "code",
   "execution_count": null,
   "metadata": {},
   "outputs": [],
   "source": [
    "# Minimum number of events\n",
    "minloc = 25\n",
    "# Attribute types 'bin'=[0,1] ; 'binidf'=[0,1]/IDF \n",
    "mode = 'bin'\n",
    "datamat, users = trans.generate_data_matrix(minloc=minloc, mode=mode)"
   ]
  },
  {
   "cell_type": "code",
   "execution_count": null,
   "metadata": {},
   "outputs": [],
   "source": [
    "# Clustering Algorithm 'kmeans', 'affinity', 'spectral'\n",
    "calg = 'kmeans'\n",
    "damping = 0.5 # for affinity clustering\n",
    "nclust = 50 # Number of clusters for kmeans and spectral clustering\n",
    "cls = cluster_colapsed_events(datamat, users, minloc=minloc, mode=mode,\n",
    "                                          alg=calg, damping=damping, nclust=nclust)"
   ]
  }
 ],
 "metadata": {
  "kernelspec": {
   "display_name": "Python 2",
   "language": "python",
   "name": "python2"
  },
  "language_info": {
   "codemirror_mode": {
    "name": "ipython",
    "version": 2.0
   },
   "file_extension": ".py",
   "mimetype": "text/x-python",
   "name": "python",
   "nbconvert_exporter": "python",
   "pygments_lexer": "ipython2",
   "version": "2.7.6"
  }
 },
 "nbformat": 4,
 "nbformat_minor": 0
}