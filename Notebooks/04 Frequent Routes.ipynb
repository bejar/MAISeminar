{
 "cells": [
  {
   "cell_type": "markdown",
   "metadata": {
    "collapsed": true
   },
   "source": [
    "# Frequent Routes"
   ]
  },
  {
   "cell_type": "markdown",
   "metadata": {},
   "source": [
    "We first load the data"
   ]
  },
  {
   "cell_type": "code",
   "execution_count": null,
   "metadata": {
    "collapsed": false
   },
   "outputs": [
    {
     "name": "stdout",
     "output_type": "stream",
     "text": [
      "Reading Data ...\n",
      "A=  instagram\n",
      "C=  (None, (51.23, 51.8, -0.5, 0.37), 'london', None, 60, None)\n",
      "D=  (447549,)\n"
     ]
    }
   ],
   "source": [
    "%matplotlib inline\n",
    "from Code.STData import STData\n",
    "from Code.Constants import  cityparams\n",
    "from Code.Clustering import cluster_events, cluster_cache\n",
    "from Code.Transactions import DailyDiscretizedTransactions, DailyClusteredTransactions\n",
    "from Code.TimeDiscretizer import TimeDiscretizer\n",
    "import folium\n",
    "\n",
    "data = STData('../', cityparams['london'], 'instagram')\n",
    "\n",
    "data.read_data()\n",
    "data.info()"
   ]
  },
  {
   "cell_type": "markdown",
   "metadata": {},
   "source": [
    "We discretize the geopositioning (if the clustering is in /Clusters it just loads it)"
   ]
  },
  {
   "cell_type": "code",
   "execution_count": null,
   "metadata": {
    "collapsed": false
   },
   "outputs": [],
   "source": [
    "# radius = 0.005 represents a circle of around 500m diameter depending on latitude/longitude\n",
    "alg = 'kmeans'\n",
    "radius = 0.005\n",
    "nclusters = 500\n",
    "cluster = cluster_cache(data, alg= alg, radius=radius, nclusters=nclusters)\n",
    "if cluster is None:\n",
    "    print 'Computing Clustering'\n",
    "    cluster, _ = cluster_events(data, alg=alg, radius=radius, nclusters=nclusters)"
   ]
  },
  {
   "cell_type": "markdown",
   "metadata": {},
   "source": [
    "We transform the data into a transactions database joining all the events of a users in all the data. A file is generated in the /Routes directory with the information of the routes. In /Results a map with the routes will be saved."
   ]
  },
  {
   "cell_type": "code",
   "execution_count": null,
   "metadata": {
    "collapsed": false
   },
   "outputs": [],
   "source": [
    "from Code.Routes import transaction_routes_clustering\n",
    "timedis = [6, 18] # Time discretization\n",
    "mins = 10 # minimal support\n",
    "\n",
    "mymap = transaction_routes_clustering(data, alg, cluster=cluster, supp=mins, timeres=timedis)\n",
    "mymap"
   ]
  },
  {
   "cell_type": "code",
   "execution_count": null,
   "metadata": {
    "collapsed": true
   },
   "outputs": [],
   "source": []
  }
 ],
 "metadata": {
  "kernelspec": {
   "display_name": "Python 2",
   "language": "python",
   "name": "python2"
  },
  "language_info": {
   "codemirror_mode": {
    "name": "ipython",
    "version": 2
   },
   "file_extension": ".py",
   "mimetype": "text/x-python",
   "name": "python",
   "nbconvert_exporter": "python",
   "pygments_lexer": "ipython2",
   "version": "2.7.10"
  }
 },
 "nbformat": 4,
 "nbformat_minor": 0
}
